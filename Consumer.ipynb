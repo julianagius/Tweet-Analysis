{
 "cells": [
  {
   "cell_type": "markdown",
   "metadata": {},
   "source": [
    "## Kafka Consumer\n",
    "Reads tweet text coming from producer, performs NER and Relation Extraction and saves the results in mongoDB\n",
    "\n",
    "Requires:\n",
    "- topic e.g. 'covid' or 'blm' - same as specified in producer\n",
    "- database - mongodb database name"
   ]
  },
  {
   "cell_type": "code",
   "execution_count": null,
   "metadata": {},
   "outputs": [],
   "source": [
    "import json\n",
    "import spacy\n",
    "from spacy import displacy\n",
    "from kafka import KafkaConsumer\n",
    "from pymongo import MongoClient\n",
    "from openie import StanfordOpenIE\n",
    "import pandas as pd"
   ]
  },
  {
   "cell_type": "code",
   "execution_count": null,
   "metadata": {},
   "outputs": [],
   "source": [
    "def insert_mongodb(my_dict, collection):\n",
    "    try:\n",
    "        rec_id1 = db[collection].insert_one(my_dict)\n",
    "        print(\"Data inserted with record ids\", rec_id1)\n",
    "    except:\n",
    "        print(\"Could not insert record in Mongo collection: \" + collection)"
   ]
  },
  {
   "cell_type": "code",
   "execution_count": null,
   "metadata": {},
   "outputs": [],
   "source": [
    "topic = 'covid'\n",
    "database = 'analysisDB'\n",
    "twitter_collection = topic\n",
    "vertices_collection = topic + \"_vertices\"\n",
    "edges_collection = topic + \"_edges\"\n",
    "ne_collection = topic + \"_nes\" "
   ]
  },
  {
   "cell_type": "code",
   "execution_count": null,
   "metadata": {},
   "outputs": [],
   "source": [
    "# Connect to mongoDB\n",
    "try:\n",
    "    client = MongoClient('mongodb://mongo:27017/')\n",
    "    db = client[database]\n",
    "    print(\"Connected to database: \" + database)\n",
    "except:\n",
    "    print(\"Could not connect to MongoDB\")"
   ]
  },
  {
   "cell_type": "code",
   "execution_count": null,
   "metadata": {},
   "outputs": [],
   "source": [
    "client.list_database_names()"
   ]
  },
  {
   "cell_type": "code",
   "execution_count": null,
   "metadata": {},
   "outputs": [],
   "source": [
    "consumer = KafkaConsumer(topic, group_id='test-group',\n",
    "                         bootstrap_servers=['172.27.1.16:9092'],\n",
    "                         auto_offset_reset='latest', value_deserializer=lambda m: json.loads(m.decode('utf-8')))\n",
    "\n",
    "# start openie and spacy\n",
    "openie_client = StanfordOpenIE()\n",
    "nlp = spacy.load('en_core_web_sm')\n",
    "\n",
    "for msg in consumer:\n",
    "    # Get and save tweet text\n",
    "    text = msg.value\n",
    "    tweet = {'text': text}\n",
    "    insert_mongodb(tweet, twitter_collection)\n",
    "    \n",
    "    # get relation triples\n",
    "    reln_triples = openie_client.annotate(text.lower().replace('#', ''))\n",
    "\n",
    "    #get named entities\n",
    "    doc = nlp(text.lower().replace('#', ''))\n",
    "    entities = doc.ents\n",
    "    \n",
    "    df = pd.DataFrame(reln_triples)\n",
    "    drop_df = df.drop_duplicates(['subject','relation'], keep='last')\n",
    "    \n",
    "    if len(drop_df.index) > 0:\n",
    "        for vertex in pd.unique(df[['subject', 'object']].values.ravel('K')):\n",
    "            temp_dict = {'vertex': (vertex, vertex)}\n",
    "            insert_mongodb(temp_dict, vertices_collection)\n",
    "            print(temp_dict)\n",
    "\n",
    "        for _, row in drop_df.iterrows():\n",
    "            temp_dict = {\"edge\": (row['subject'], row['object'], row[\"relation\"])}\n",
    "            insert_mongodb(temp_dict, edges_collection)\n",
    "            print(temp_dict)\n",
    "\n",
    "    for entity in entities:\n",
    "        temp_dict = {'type': entity.label_, 'text': entity.text}\n",
    "        insert_mongodb(temp_dict, ne_collection)\n",
    "        print('=>', temp_dict)\n",
    "        print()"
   ]
  }
 ],
 "metadata": {
  "kernelspec": {
   "display_name": "Python 3",
   "language": "python",
   "name": "python3"
  },
  "language_info": {
   "codemirror_mode": {
    "name": "ipython",
    "version": 3
   },
   "file_extension": ".py",
   "mimetype": "text/x-python",
   "name": "python",
   "nbconvert_exporter": "python",
   "pygments_lexer": "ipython3",
   "version": "3.6.9"
  }
 },
 "nbformat": 4,
 "nbformat_minor": 4
}
