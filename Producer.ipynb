{
 "cells": [
  {
   "cell_type": "markdown",
   "metadata": {},
   "source": [
    "## Kafka Producer\n",
    "Streams English tweets from Twitter with particular hashtags\n",
    "\n",
    "Requires:\n",
    "- hashtag_file - a text file with one hashtag per line e.g. '../hashtags/covid.txt' or '../hashtags/blm.txt'"
   ]
  },
  {
   "cell_type": "code",
   "execution_count": null,
   "metadata": {},
   "outputs": [],
   "source": [
    "import json\n",
    "import sys\n",
    "from kafka import KafkaProducer\n",
    "from tweepy.streaming import StreamListener\n",
    "from tweepy import OAuthHandler\n",
    "from tweepy import Stream\n",
    "from urllib3.exceptions import ProtocolError\n",
    "\n",
    "# Credentials to access Twitter\n",
    "access_token = \"147902175-W7X1zzR9aZkicESXM9nwzIZ7mDUtV6kDsJxCWsFx\"\n",
    "access_token_secret = \"nkMaGnwE0uOaa9DdlyWiDo3G90U73ahqdiytjSYbqVrDe\"\n",
    "consumer_key = \"oyJIFFCTwtMY1D9f8AhHsMwrI\"\n",
    "consumer_secret = \"OztDRlpcqodVsIwzxaTAUUdBzM0QcrD6K95rGPjJiYQM1WjUg7\""
   ]
  },
  {
   "cell_type": "code",
   "execution_count": null,
   "metadata": {},
   "outputs": [],
   "source": [
    "hashtag_file = '../hashtags/covid.txt' # '../hashtags/covid.txt' or '../hashtags/blm.txt'\n",
    "topic = hashtag_file.replace('../hashtags/', '').replace('.txt', '')\n",
    "\n",
    "file = open(hashtag_file, 'r')\n",
    "hashtags = [line.replace('\\n', '').strip() for line in file.readlines()]\n",
    "\n",
    "print(hashtags)"
   ]
  },
  {
   "cell_type": "code",
   "execution_count": null,
   "metadata": {},
   "outputs": [],
   "source": [
    "class StdOutListener(StreamListener):\n",
    "    def on_data(self, data):\n",
    "\n",
    "        tstream = json.loads(data)\n",
    "\n",
    "        tweet = ''\n",
    "        if 'extended_tweet' in tstream:\n",
    "            tweet = tstream['extended_tweet']['full_text']\n",
    "            print('extended')\n",
    "\n",
    "        elif \"retweeted_status\" in tstream:\n",
    "            print('retweet')\n",
    "            tstream = tstream[\"retweeted_status\"]\n",
    "\n",
    "            if \"extended_tweet\" in tweet:\n",
    "                tweet = tstream[\"extended_tweet\"].get(\"full_text\", tstream.get(\"text\", \"\"))\n",
    "            else:\n",
    "                tweet = tstream.get(\"text\", \"\")\n",
    "\n",
    "#         print(tweet)\n",
    "#         print('----------------------')\n",
    "\n",
    "        producer.send(topic, tweet)\n",
    "           \n",
    "        return True"
   ]
  },
  {
   "cell_type": "code",
   "execution_count": null,
   "metadata": {},
   "outputs": [],
   "source": [
    "# Set up producer\n",
    "producer = KafkaProducer(bootstrap_servers='172.27.1.16:9092',\n",
    "                         value_serializer=lambda x: json.dumps(x).encode('utf-8'))\n",
    "\n",
    "\n",
    "# Get the stream of tweets from twitter and filter them by the hastags from from hashtag_file.\n",
    "out = StdOutListener()\n",
    "auth = OAuthHandler(consumer_key, consumer_secret)\n",
    "auth.set_access_token(access_token, access_token_secret)\n",
    "stream = Stream(auth, out)"
   ]
  },
  {
   "cell_type": "code",
   "execution_count": null,
   "metadata": {},
   "outputs": [],
   "source": [
    "while True:\n",
    "    try:\n",
    "        stream.filter(languages=[\"en\"], track=hashtags)\n",
    "    except ProtocolError:\n",
    "        continue"
   ]
  },
  {
   "cell_type": "code",
   "execution_count": null,
   "metadata": {},
   "outputs": [],
   "source": []
  }
 ],
 "metadata": {
  "kernelspec": {
   "display_name": "Python 3",
   "language": "python",
   "name": "python3"
  },
  "language_info": {
   "codemirror_mode": {
    "name": "ipython",
    "version": 3
   },
   "file_extension": ".py",
   "mimetype": "text/x-python",
   "name": "python",
   "nbconvert_exporter": "python",
   "pygments_lexer": "ipython3",
   "version": "3.6.9"
  }
 },
 "nbformat": 4,
 "nbformat_minor": 4
}
