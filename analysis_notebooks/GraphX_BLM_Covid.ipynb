{
 "cells": [
  {
   "cell_type": "markdown",
   "metadata": {},
   "source": [
    "This notebook finds occurrences of COVID-19 related entities and relations in the Black Lives Matter tweets and vicer versa"
   ]
  },
  {
   "cell_type": "code",
   "execution_count": 1,
   "metadata": {},
   "outputs": [],
   "source": [
    "from functools import reduce\n",
    "from pyspark.sql.functions import col, lit, when, desc\n",
    "from graphframes import *\n",
    "\n",
    "from pyspark.sql import SparkSession\n",
    "\n",
    "from nltk.corpus import stopwords\n",
    "import string\n",
    "import pickle"
   ]
  },
  {
   "cell_type": "code",
   "execution_count": 2,
   "metadata": {},
   "outputs": [],
   "source": [
    "database = \"analysisDB\" # mongoDB database name\n",
    "collection = \"blm_vertices\"\n",
    "collection_2 = \"blm_edges\"\n",
    "topic = \"blm\""
   ]
  },
  {
   "cell_type": "code",
   "execution_count": 3,
   "metadata": {},
   "outputs": [],
   "source": [
    "spark = SparkSession \\\n",
    "    .builder \\\n",
    "    .appName(\"myApp\") \\\n",
    "    .config(\"spark.mongodb.input.uri=mongodb://mongo:27017/\"+database+\".\"+collection) \\\n",
    "    .config(\"spark.mongodb.output.uri=mongodb://mongo:27017/\"+database+\".\"+collection) \\\n",
    "    .config('spark.jars.packages', 'org.mongodb.spark:mongo-spark-connector_2.11:2.3.2') \\\n",
    "    .getOrCreate()\n",
    "\n",
    "sc = spark.sparkContext"
   ]
  },
  {
   "cell_type": "code",
   "execution_count": 4,
   "metadata": {},
   "outputs": [
    {
     "data": {
      "text/plain": [
       "['_id', 'vertex']"
      ]
     },
     "execution_count": 4,
     "metadata": {},
     "output_type": "execute_result"
    }
   ],
   "source": [
    "vert_df = spark.read.format(\"com.mongodb.spark.sql.DefaultSource\").option(\"uri\",\"mongodb://mongo:27017/\"+database+\".\"+collection).load()\n",
    "vert_df.columns"
   ]
  },
  {
   "cell_type": "code",
   "execution_count": 6,
   "metadata": {},
   "outputs": [],
   "source": [
    "spark = SparkSession \\\n",
    "    .builder \\\n",
    "    .appName(\"myApp\") \\\n",
    "    .config(\"spark.mongodb.input.uri=mongodb://mongo:27017/\"+database+\".\"+collection_2) \\\n",
    "    .config(\"spark.mongodb.output.uri=mongodb://mongo:27017/\"+database+\".\"+collection_2) \\\n",
    "    .config('spark.jars.packages', 'org.mongodb.spark:mongo-spark-connector_2.11:2.3.2') \\\n",
    "    .getOrCreate()\n",
    "\n",
    "sc = spark.sparkContext"
   ]
  },
  {
   "cell_type": "code",
   "execution_count": 7,
   "metadata": {},
   "outputs": [
    {
     "data": {
      "text/plain": [
       "['_id', 'edge']"
      ]
     },
     "execution_count": 7,
     "metadata": {},
     "output_type": "execute_result"
    }
   ],
   "source": [
    "edge_df = spark.read.format(\"com.mongodb.spark.sql.DefaultSource\").option(\"uri\",\"mongodb://mongo:27017/\"+database+\".\"+collection_2).load()\n",
    "edge_df.columns"
   ]
  },
  {
   "cell_type": "code",
   "execution_count": 8,
   "metadata": {},
   "outputs": [
    {
     "data": {
      "text/plain": [
       "[('birthplace', 'black 🖤 blacklivesmatter https://t.co/fjtsmgh1nk', 'is'),\n",
       " ('black lives', 'country', 'matter in'),\n",
       " ('woman', 'failure signal', 'was arrested for'),\n",
       " ('@bts_twt', 'donation', 'has'),\n",
       " ('chicago pd', 'restr', 'arrested')]"
      ]
     },
     "execution_count": 8,
     "metadata": {},
     "output_type": "execute_result"
    }
   ],
   "source": [
    "edge_list = [tuple(i.edge) for i in edge_df.select('edge').distinct().collect()]\n",
    "edge_list[:5]"
   ]
  },
  {
   "cell_type": "code",
   "execution_count": 9,
   "metadata": {},
   "outputs": [
    {
     "data": {
      "text/plain": [
       "[('75 year old guy', '75 year old guy'),\n",
       " ('kid listening', 'kid listening'),\n",
       " ('irish lad', 'irish lad'),\n",
       " ('fascism', 'fascism'),\n",
       " ('fight', 'fight')]"
      ]
     },
     "execution_count": 9,
     "metadata": {},
     "output_type": "execute_result"
    }
   ],
   "source": [
    "vert_list = [tuple(i.vertex) for i in vert_df.select('vertex').distinct().collect()]\n",
    "vert_list[:5]"
   ]
  },
  {
   "cell_type": "code",
   "execution_count": 10,
   "metadata": {},
   "outputs": [
    {
     "name": "stdout",
     "output_type": "stream",
     "text": [
      "GraphFrame(v:[id: string, text: string], e:[src: string, dst: string ... 1 more field])\n"
     ]
    }
   ],
   "source": [
    "vertices = spark.createDataFrame(vert_list, [\"id\", \"text\"])\n",
    "edges = spark.createDataFrame(edge_list, [\"src\", \"dst\", \"relationship\"])\n",
    "g = GraphFrame(vertices, edges)\n",
    "print(g)"
   ]
  },
  {
   "cell_type": "code",
   "execution_count": 30,
   "metadata": {},
   "outputs": [
    {
     "name": "stdout",
     "output_type": "stream",
     "text": [
      "+--------------+--------------------+--------------------+\n",
      "|           src|                 dst|        relationship|\n",
      "+--------------+--------------------+--------------------+\n",
      "|         covid|               trump|          kinda like|\n",
      "|    @fti_us ft|               covid|           is amc by|\n",
      "|            we|               covid|          had due to|\n",
      "|            it|               covid|             come to|\n",
      "| many unknowns|               covid|             is with|\n",
      "|    datesheets|              corona| increasing cases of|\n",
      "|        corona|_ opposition rest...|             restart|\n",
      "|         covid|       inevitability|                 was|\n",
      "|         covid|       manmade virus|                  is|\n",
      "|        corona|              strong|                  is|\n",
      "|           one|               covid|  would fully expect|\n",
      "|        corona|waziristan waziri...|are again spreadi...|\n",
      "|         covid|       our door step|   has come right at|\n",
      "|         covid|                rise|           has given|\n",
      "|   auditoriums|              corona|               fight|\n",
      "|   @chriscuomo|               covid|             is with|\n",
      "|         covid|              dublin|               is in|\n",
      "|         covid|collaborative off...|    changed way from|\n",
      "|       cricket|               covid|             is with|\n",
      "|tests next day|              corona|        positive for|\n",
      "+--------------+--------------------+--------------------+\n",
      "only showing top 20 rows\n",
      "\n"
     ]
    }
   ],
   "source": [
    "search_list = ['covid', 'corona']\n",
    "\n",
    "covid_in_blm_df = g.edges.where(g.edges['src'].isin(search_list) | g.edges['dst'].isin(search_list))\n",
    "covid_in_blm_df.show()"
   ]
  },
  {
   "cell_type": "code",
   "execution_count": 31,
   "metadata": {},
   "outputs": [
    {
     "data": {
      "text/plain": [
       "1234"
      ]
     },
     "execution_count": 31,
     "metadata": {},
     "output_type": "execute_result"
    }
   ],
   "source": [
    "covid_in_blm_df.count()"
   ]
  },
  {
   "cell_type": "code",
   "execution_count": 14,
   "metadata": {},
   "outputs": [],
   "source": [
    "database = \"analysisDB\" # mongoDB database name\n",
    "collection = \"covid_vertices\"\n",
    "collection_2 = \"covid_edges\"\n",
    "topic = \"covid\""
   ]
  },
  {
   "cell_type": "code",
   "execution_count": 15,
   "metadata": {},
   "outputs": [
    {
     "data": {
      "text/plain": [
       "['_id', 'vertex']"
      ]
     },
     "execution_count": 15,
     "metadata": {},
     "output_type": "execute_result"
    }
   ],
   "source": [
    "spark = SparkSession \\\n",
    "    .builder \\\n",
    "    .appName(\"myApp\") \\\n",
    "    .config(\"spark.mongodb.input.uri=mongodb://mongo:27017/\"+database+\".\"+collection) \\\n",
    "    .config(\"spark.mongodb.output.uri=mongodb://mongo:27017/\"+database+\".\"+collection) \\\n",
    "    .config('spark.jars.packages', 'org.mongodb.spark:mongo-spark-connector_2.11:2.3.2') \\\n",
    "    .getOrCreate()\n",
    "\n",
    "sc = spark.sparkContext\n",
    "\n",
    "vert_df = spark.read.format(\"com.mongodb.spark.sql.DefaultSource\").option(\"uri\",\"mongodb://mongo:27017/\"+database+\".\"+collection).load()\n",
    "vert_df.columns"
   ]
  },
  {
   "cell_type": "code",
   "execution_count": 16,
   "metadata": {},
   "outputs": [
    {
     "data": {
      "text/plain": [
       "['_id', 'edge']"
      ]
     },
     "execution_count": 16,
     "metadata": {},
     "output_type": "execute_result"
    }
   ],
   "source": [
    "spark = SparkSession \\\n",
    "    .builder \\\n",
    "    .appName(\"myApp\") \\\n",
    "    .config(\"spark.mongodb.input.uri=mongodb://mongo:27017/\"+database+\".\"+collection_2) \\\n",
    "    .config(\"spark.mongodb.output.uri=mongodb://mongo:27017/\"+database+\".\"+collection_2) \\\n",
    "    .config('spark.jars.packages', 'org.mongodb.spark:mongo-spark-connector_2.11:2.3.2') \\\n",
    "    .getOrCreate()\n",
    "\n",
    "sc = spark.sparkContext\n",
    "\n",
    "edge_df = spark.read.format(\"com.mongodb.spark.sql.DefaultSource\").option(\"uri\",\"mongodb://mongo:27017/\"+database+\".\"+collection_2).load()\n",
    "edge_df.columns"
   ]
  },
  {
   "cell_type": "code",
   "execution_count": 17,
   "metadata": {},
   "outputs": [
    {
     "data": {
      "text/plain": [
       "[('infections rate', 'floor', 'has dropped through'),\n",
       " ('it', 'level of normality', 'may seem'),\n",
       " ('our rwchr', 'online conference', 'host'),\n",
       " ('adrian miedema',\n",
       "  'canada begins to returntowork via @canlawmag',\n",
       "  'discusses employment obligations'),\n",
       " ('life', 'covid19', 'eliminating')]"
      ]
     },
     "execution_count": 17,
     "metadata": {},
     "output_type": "execute_result"
    }
   ],
   "source": [
    "edge_list = [tuple(i.edge) for i in edge_df.select('edge').distinct().collect()]\n",
    "edge_list[:5]"
   ]
  },
  {
   "cell_type": "code",
   "execution_count": 18,
   "metadata": {},
   "outputs": [
    {
     "data": {
      "text/plain": [
       "[('important', 'important'),\n",
       " ('expert speakers', 'expert speakers'),\n",
       " ('keeping', 'keeping'),\n",
       " ('covid19 recovery', 'covid19 recovery'),\n",
       " ('march against injustice', 'march against injustice')]"
      ]
     },
     "execution_count": 18,
     "metadata": {},
     "output_type": "execute_result"
    }
   ],
   "source": [
    "vert_list = [tuple(i.vertex) for i in vert_df.select('vertex').distinct().collect()]\n",
    "vert_list[:5]"
   ]
  },
  {
   "cell_type": "code",
   "execution_count": 19,
   "metadata": {},
   "outputs": [
    {
     "name": "stdout",
     "output_type": "stream",
     "text": [
      "GraphFrame(v:[id: string, text: string], e:[src: string, dst: string ... 1 more field])\n"
     ]
    }
   ],
   "source": [
    "vertices = spark.createDataFrame(vert_list, [\"id\", \"text\"])\n",
    "edges = spark.createDataFrame(edge_list, [\"src\", \"dst\", \"relationship\"])\n",
    "g = GraphFrame(vertices, edges)\n",
    "print(g)"
   ]
  },
  {
   "cell_type": "code",
   "execution_count": 28,
   "metadata": {},
   "outputs": [
    {
     "name": "stdout",
     "output_type": "stream",
     "text": [
      "+----------------+--------------------+--------------------+\n",
      "|             src|                 dst|        relationship|\n",
      "+----------------+--------------------+--------------------+\n",
      "|             blm|     political cause|          is seen as|\n",
      "|             blm|            protests|               is in|\n",
      "|            they|                 blm|     're sneering at|\n",
      "|            fuck|                 blm|                 are|\n",
      "|blacklivesmatter|           political|                  is|\n",
      "|    noui @ca_edd|    blacklivesmatter|         broke alone|\n",
      "|             blm|             traitor| is corporate funded|\n",
      "|             blm|             version|                  is|\n",
      "|             blm|     group of people|       are infecting|\n",
      "|             blm|               today|ca has brushfires...|\n",
      "|             blm|     mostly opinions|      of coverage is|\n",
      "|              we|                 blm|         moved on to|\n",
      "|blacklivesmatter|                  it|           cancelled|\n",
      "|             blm|            joebiden|               elect|\n",
      "|blacklivesmatter|              change|     opportunity for|\n",
      "|             blm|jihad blm acab tr...|  is just version of|\n",
      "|               i|                 blm|'m fighting daily...|\n",
      "|          people|                 blm|      die because of|\n",
      "|blacklivesmatter|https://t.co/pcsq...|https://t.co/xiqx...|\n",
      "|blacklivesmatter|        close people|            stand up|\n",
      "+----------------+--------------------+--------------------+\n",
      "only showing top 20 rows\n",
      "\n"
     ]
    }
   ],
   "source": [
    "search_list = ['blm', 'blacklivesmatter']\n",
    "blm_in_covid_df = g.edges.where(g.edges['src'].isin(search_list) | g.edges['dst'].isin(search_list))\n",
    "blm_in_covid_df.show()"
   ]
  },
  {
   "cell_type": "code",
   "execution_count": 29,
   "metadata": {},
   "outputs": [
    {
     "data": {
      "text/plain": [
       "96"
      ]
     },
     "execution_count": 29,
     "metadata": {},
     "output_type": "execute_result"
    }
   ],
   "source": [
    "blm_in_covid_df.count()"
   ]
  },
  {
   "cell_type": "code",
   "execution_count": 26,
   "metadata": {},
   "outputs": [],
   "source": [
    "df = covid_in_blm_df # covid_in_blm_df | blm_in_covid_df\n",
    "comm_edges_list = [[i.src, i.dst] for i in df.collect()]"
   ]
  },
  {
   "cell_type": "code",
   "execution_count": 27,
   "metadata": {},
   "outputs": [],
   "source": [
    "with open('data/covid_in_blm_edges.txt', 'wb') as fp:\n",
    "    pickle.dump(comm_edges_list, fp)"
   ]
  },
  {
   "cell_type": "code",
   "execution_count": null,
   "metadata": {},
   "outputs": [],
   "source": []
  }
 ],
 "metadata": {
  "kernelspec": {
   "display_name": "Python 3",
   "language": "python",
   "name": "python3"
  },
  "language_info": {
   "codemirror_mode": {
    "name": "ipython",
    "version": 3
   },
   "file_extension": ".py",
   "mimetype": "text/x-python",
   "name": "python",
   "nbconvert_exporter": "python",
   "pygments_lexer": "ipython3",
   "version": "3.6.9"
  }
 },
 "nbformat": 4,
 "nbformat_minor": 4
}
