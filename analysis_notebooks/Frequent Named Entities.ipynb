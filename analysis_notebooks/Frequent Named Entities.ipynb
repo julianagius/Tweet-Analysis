{
 "cells": [
  {
   "cell_type": "markdown",
   "metadata": {},
   "source": [
    "## Identiftication of Frequent Named Entities\n",
    "\n",
    "Identifying frequent named entities from tweets"
   ]
  },
  {
   "cell_type": "code",
   "execution_count": 1,
   "metadata": {},
   "outputs": [],
   "source": [
    "from pyspark.sql import SparkSession\n",
    "from pyspark.conf import SparkConf\n",
    "\n",
    "from pyspark.sql.functions import desc"
   ]
  },
  {
   "cell_type": "code",
   "execution_count": 2,
   "metadata": {},
   "outputs": [],
   "source": [
    "database = \"analysisDB\"\n",
    "collection = \"covid_nes\" #"
   ]
  },
  {
   "cell_type": "code",
   "execution_count": 3,
   "metadata": {},
   "outputs": [],
   "source": [
    "spark = SparkSession \\\n",
    "    .builder \\\n",
    "    .appName(\"myApp\") \\\n",
    "    .config(\"spark.mongodb.input.uri=mongodb://mongo:27017/\"+database+\".\"+collection) \\\n",
    "    .config(\"spark.mongodb.output.uri=mongodb://mongo:27017/\"+database+\".\"+collection) \\\n",
    "    .config('spark.jars.packages', 'org.mongodb.spark:mongo-spark-connector_2.11:2.3.2') \\\n",
    "    .getOrCreate()\n",
    "\n",
    "sc = spark.sparkContext"
   ]
  },
  {
   "cell_type": "code",
   "execution_count": 4,
   "metadata": {},
   "outputs": [
    {
     "data": {
      "text/plain": [
       "['_id', 'text', 'type']"
      ]
     },
     "execution_count": 4,
     "metadata": {},
     "output_type": "execute_result"
    }
   ],
   "source": [
    "df = spark.read.format(\"com.mongodb.spark.sql.DefaultSource\").option(\"uri\",\"mongodb://mongo:27017/\"+database+\".\"+collection).load()\n",
    "df.columns"
   ]
  },
  {
   "cell_type": "code",
   "execution_count": 5,
   "metadata": {},
   "outputs": [
    {
     "name": "stdout",
     "output_type": "stream",
     "text": [
      "+-------------+-----+\n",
      "|         text|count|\n",
      "+-------------+-----+\n",
      "|          one|23543|\n",
      "|        today|17104|\n",
      "|           uk|10168|\n",
      "|        india| 7747|\n",
      "|        first| 7460|\n",
      "|            1| 6033|\n",
      "|     covid-19| 5984|\n",
      "|            2| 5558|\n",
      "|  coronavirus| 5184|\n",
      "|            3| 4997|\n",
      "|           us| 4849|\n",
      "|neil ferguson| 4764|\n",
      "|    americans| 4546|\n",
      "|  new zealand| 4334|\n",
      "|    yesterday| 4257|\n",
      "|        china| 3873|\n",
      "|          two| 3598|\n",
      "|      arizona| 3383|\n",
      "|       not q/| 3182|\n",
      "|           14| 2937|\n",
      "+-------------+-----+\n",
      "only showing top 20 rows\n",
      "\n"
     ]
    }
   ],
   "source": [
    "df.groupBy('text').count().sort(desc('count')).show()"
   ]
  },
  {
   "cell_type": "code",
   "execution_count": 6,
   "metadata": {},
   "outputs": [
    {
     "name": "stdout",
     "output_type": "stream",
     "text": [
      "+--------------------+-----+\n",
      "|                text|count|\n",
      "+--------------------+-----+\n",
      "|         coronavirus| 4885|\n",
      "|                govt| 2860|\n",
      "|                 dmk| 2219|\n",
      "|             do &amp| 2067|\n",
      "|                &amp| 1852|\n",
      "|                 bmc| 1814|\n",
      "|         @officeofut| 1796|\n",
      "|   seattle city hall| 1447|\n",
      "|   indiafightscorona| 1256|\n",
      "|                  eu| 1125|\n",
      "|           like &amp| 1112|\n",
      "|                nike| 1076|\n",
      "|  boleh tak kerajaan| 1040|\n",
      "|china violating r...|  935|\n",
      "|      the trash &amp|  758|\n",
      "|                  un|  744|\n",
      "|the republican ec...|  667|\n",
      "|                 app|  657|\n",
      "|          healthcare|  633|\n",
      "|https://t.co/85f5...|  614|\n",
      "+--------------------+-----+\n",
      "only showing top 20 rows\n",
      "\n"
     ]
    }
   ],
   "source": [
    "# Frequent Organisations\n",
    "df.filter(df['type'] == 'ORG').groupBy('text').count().sort(desc('count')).show()"
   ]
  },
  {
   "cell_type": "code",
   "execution_count": 7,
   "metadata": {},
   "outputs": [
    {
     "name": "stdout",
     "output_type": "stream",
     "text": [
      "+--------------------+-----+\n",
      "|                text|count|\n",
      "+--------------------+-----+\n",
      "|       neil ferguson| 4762|\n",
      "|              not q/| 3182|\n",
      "|             uk govt| 1486|\n",
      "|                kemi| 1102|\n",
      "|               trump| 1000|\n",
      "|                 inf|  803|\n",
      "|       @borisjohnson|  735|\n",
      "|       boris johnson|  713|\n",
      "|              corona|  693|\n",
      "|        pretty stark|  666|\n",
      "|               fauci|  570|\n",
      "|              bowser|  534|\n",
      "|                  📢|  512|\n",
      "|                  ma|  496|\n",
      "|                  cm|  472|\n",
      "|               henry|  466|\n",
      "|              punjab|  439|\n",
      "|https://t.co/kpgm...|  438|\n",
      "|        george floyd|  433|\n",
      "|               bingo|  429|\n",
      "+--------------------+-----+\n",
      "only showing top 20 rows\n",
      "\n"
     ]
    }
   ],
   "source": [
    "# Frequent Persons\n",
    "df.filter(df['type'] == 'PERSON').groupBy('text').count().sort(desc('count')).show()"
   ]
  },
  {
   "cell_type": "code",
   "execution_count": 8,
   "metadata": {},
   "outputs": [
    {
     "name": "stdout",
     "output_type": "stream",
     "text": [
      "+--------------------+-----+\n",
      "|                text|count|\n",
      "+--------------------+-----+\n",
      "|               earth| 1347|\n",
      "|              europe| 1225|\n",
      "|              africa|  943|\n",
      "|                asia|  403|\n",
      "|       latin america|  216|\n",
      "|             kashmir|  198|\n",
      "|            bay area|   72|\n",
      "|muzaffarnagar dis...|   67|\n",
      "|       north america|   66|\n",
      "|         middle east|   51|\n",
      "|       mediterranean|   49|\n",
      "|            americas|   46|\n",
      "|                west|   44|\n",
      "|           caribbean|   38|\n",
      "|     sirohi district|   36|\n",
      "|             pacific|   36|\n",
      "|            covid-19|   34|\n",
      "|       most bay area|   33|\n",
      "|     the middle east|   31|\n",
      "|                mars|   30|\n",
      "+--------------------+-----+\n",
      "only showing top 20 rows\n",
      "\n"
     ]
    }
   ],
   "source": [
    "# Frequent Locations\n",
    "df.filter(df['type'] == 'LOC').groupBy('text').count().sort(desc('count')).show()"
   ]
  },
  {
   "cell_type": "code",
   "execution_count": 9,
   "metadata": {},
   "outputs": [
    {
     "name": "stdout",
     "output_type": "stream",
     "text": [
      "+--------------------+-----+\n",
      "|                text|count|\n",
      "+--------------------+-----+\n",
      "|  air force marathon|   25|\n",
      "|         @pacaf 82nd|   22|\n",
      "|              series|   21|\n",
      "| tokyo olympic games|   14|\n",
      "|    hurricane season|   12|\n",
      "|           world cup|   11|\n",
      "| covid-19 recoveries|   10|\n",
      "| covid19india corona|    9|\n",
      "|        world war ii|    9|\n",
      "| spanishflu pandemic|    9|\n",
      "|@gavinnewsom @xav...|    8|\n",
      "| covid-19 response -|    8|\n",
      "|            olympics|    7|\n",
      "|   world refugee day|    7|\n",
      "|          this ⬇⬇⬇⬇⬇|    6|\n",
      "|the great depression|    6|\n",
      "|cultural marathon...|    5|\n",
      "|       world war two|    5|\n",
      "|                 cup|    5|\n",
      "|        uk - 16 june|    4|\n",
      "+--------------------+-----+\n",
      "only showing top 20 rows\n",
      "\n"
     ]
    }
   ],
   "source": [
    "# Frequent Events\n",
    "df.filter(df['type'] == 'EVENT').groupBy('text').count().sort(desc('count')).show()"
   ]
  },
  {
   "cell_type": "code",
   "execution_count": null,
   "metadata": {},
   "outputs": [],
   "source": []
  }
 ],
 "metadata": {
  "kernelspec": {
   "display_name": "Python 3",
   "language": "python",
   "name": "python3"
  },
  "language_info": {
   "codemirror_mode": {
    "name": "ipython",
    "version": 3
   },
   "file_extension": ".py",
   "mimetype": "text/x-python",
   "name": "python",
   "nbconvert_exporter": "python",
   "pygments_lexer": "ipython3",
   "version": "3.6.9"
  }
 },
 "nbformat": 4,
 "nbformat_minor": 4
}
