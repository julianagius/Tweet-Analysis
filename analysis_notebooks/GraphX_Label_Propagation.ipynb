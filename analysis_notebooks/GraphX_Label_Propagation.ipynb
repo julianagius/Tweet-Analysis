{
 "cells": [
  {
   "cell_type": "markdown",
   "metadata": {},
   "source": [
    "## Notebook to Identify Communities from Tweet Text\n",
    "This notebook uses the entities and relations extracted previously to build a knowledge graph and uses Label Propagation to identify communities within the graph."
   ]
  },
  {
   "cell_type": "code",
   "execution_count": 1,
   "metadata": {},
   "outputs": [],
   "source": [
    "from functools import reduce\n",
    "from pyspark.sql.functions import col, lit, when, desc\n",
    "from graphframes import *\n",
    "\n",
    "from pyspark.sql import SparkSession\n",
    "\n",
    "from nltk.corpus import stopwords\n",
    "import string\n",
    "import pickle"
   ]
  },
  {
   "cell_type": "code",
   "execution_count": 2,
   "metadata": {},
   "outputs": [],
   "source": [
    "database = \"analysisDB\" #mongoDB Database Name\n",
    "collection = \"covid_vertices\" # blm_vertices | covid_vertices\n",
    "collection_2 = \"covid_edges\" # blm_edges | covid_edges\n",
    "topic = \"covid\" # blm | covid"
   ]
  },
  {
   "cell_type": "code",
   "execution_count": 3,
   "metadata": {},
   "outputs": [],
   "source": [
    "spark = SparkSession \\\n",
    "    .builder \\\n",
    "    .appName(\"myApp\") \\\n",
    "    .config(\"spark.mongodb.input.uri=mongodb://mongo:27017/\"+database+\".\"+collection) \\\n",
    "    .config(\"spark.mongodb.output.uri=mongodb://mongo:27017/\"+database+\".\"+collection) \\\n",
    "    .config('spark.jars.packages', 'org.mongodb.spark:mongo-spark-connector_2.11:2.3.2') \\\n",
    "    .getOrCreate()\n",
    "\n",
    "sc = spark.sparkContext"
   ]
  },
  {
   "cell_type": "code",
   "execution_count": 4,
   "metadata": {},
   "outputs": [
    {
     "data": {
      "text/plain": [
       "['_id', 'vertex']"
      ]
     },
     "execution_count": 4,
     "metadata": {},
     "output_type": "execute_result"
    }
   ],
   "source": [
    "vert_df = spark.read.format(\"com.mongodb.spark.sql.DefaultSource\").option(\"uri\",\"mongodb://mongo:27017/\"+database+\".\"+collection).load()\n",
    "vert_df.columns"
   ]
  },
  {
   "cell_type": "code",
   "execution_count": 5,
   "metadata": {},
   "outputs": [],
   "source": [
    "spark = SparkSession \\\n",
    "    .builder \\\n",
    "    .appName(\"myApp\") \\\n",
    "    .config(\"spark.mongodb.input.uri=mongodb://mongo:27017/\"+database+\".\"+collection_2) \\\n",
    "    .config(\"spark.mongodb.output.uri=mongodb://mongo:27017/\"+database+\".\"+collection_2) \\\n",
    "    .config('spark.jars.packages', 'org.mongodb.spark:mongo-spark-connector_2.11:2.3.2') \\\n",
    "    .getOrCreate()\n",
    "\n",
    "sc = spark.sparkContext"
   ]
  },
  {
   "cell_type": "code",
   "execution_count": 6,
   "metadata": {},
   "outputs": [
    {
     "data": {
      "text/plain": [
       "['_id', 'edge']"
      ]
     },
     "execution_count": 6,
     "metadata": {},
     "output_type": "execute_result"
    }
   ],
   "source": [
    "edge_df = spark.read.format(\"com.mongodb.spark.sql.DefaultSource\").option(\"uri\",\"mongodb://mongo:27017/\"+database+\".\"+collection_2).load()\n",
    "edge_df.columns"
   ]
  },
  {
   "cell_type": "code",
   "execution_count": 7,
   "metadata": {},
   "outputs": [
    {
     "data": {
      "text/plain": [
       "[('infections rate', 'floor', 'has dropped through'),\n",
       " ('it', 'level of normality', 'may seem'),\n",
       " ('our rwchr', 'online conference', 'host'),\n",
       " ('adrian miedema',\n",
       "  'canada begins to returntowork via @canlawmag',\n",
       "  'discusses employment obligations'),\n",
       " ('life', 'covid19', 'eliminating')]"
      ]
     },
     "execution_count": 7,
     "metadata": {},
     "output_type": "execute_result"
    }
   ],
   "source": [
    "edge_list = [tuple(i.edge) for i in edge_df.select('edge').distinct().collect()]\n",
    "edge_list[:5]"
   ]
  },
  {
   "cell_type": "code",
   "execution_count": 8,
   "metadata": {},
   "outputs": [
    {
     "data": {
      "text/plain": [
       "[('important', 'important'),\n",
       " ('expert speakers', 'expert speakers'),\n",
       " ('keeping', 'keeping'),\n",
       " ('covid19 recovery', 'covid19 recovery'),\n",
       " ('march against injustice', 'march against injustice')]"
      ]
     },
     "execution_count": 8,
     "metadata": {},
     "output_type": "execute_result"
    }
   ],
   "source": [
    "vert_list = [tuple(i.vertex) for i in vert_df.select('vertex').distinct().collect()]\n",
    "vert_list[:5]"
   ]
  },
  {
   "cell_type": "code",
   "execution_count": 9,
   "metadata": {},
   "outputs": [
    {
     "name": "stdout",
     "output_type": "stream",
     "text": [
      "GraphFrame(v:[id: string, text: string], e:[src: string, dst: string ... 1 more field])\n"
     ]
    }
   ],
   "source": [
    "vertices = spark.createDataFrame(vert_list, [\"id\", \"text\"])\n",
    "edges = spark.createDataFrame(edge_list, [\"src\", \"dst\", \"relationship\"])\n",
    "g = GraphFrame(vertices, edges)\n",
    "print(g)"
   ]
  },
  {
   "cell_type": "code",
   "execution_count": 10,
   "metadata": {},
   "outputs": [
    {
     "name": "stdout",
     "output_type": "stream",
     "text": [
      "+--------------------+--------------------+-------------+\n",
      "|                  id|                text|        label|\n",
      "+--------------------+--------------------+-------------+\n",
      "|           126 cases|           126 cases|1657857377929|\n",
      "|        160,350 sets|        160,350 sets|1657857377929|\n",
      "|      covid19 update|      covid19 update| 979252543748|\n",
      "|      many come home|      many come home|          964|\n",
      "|your professional...|your professional...| 670014899496|\n",
      "|                  🌟|                  🌟|  85899347343|\n",
      "|300 families in d...|300 families in d...|   8589934658|\n",
      "|   brand new product|   brand new product| 395136991297|\n",
      "|died in worldwaro...|died in worldwaro...|   8589935171|\n",
      "|         disinfected|         disinfected|1090921693608|\n",
      "+--------------------+--------------------+-------------+\n",
      "only showing top 10 rows\n",
      "\n"
     ]
    }
   ],
   "source": [
    "# run LPA with 5 iterations - number of communities plateaus at 5\n",
    "communities = g.labelPropagation(maxIter=5)\n",
    "communities.persist().show(10)"
   ]
  },
  {
   "cell_type": "code",
   "execution_count": 11,
   "metadata": {},
   "outputs": [
    {
     "name": "stdout",
     "output_type": "stream",
     "text": [
      "There are 213372 communities in sample graph.\n"
     ]
    }
   ],
   "source": [
    "print (f\"There are {communities.select('label').distinct().count()} communities in sample graph.\") #60455"
   ]
  },
  {
   "cell_type": "code",
   "execution_count": 12,
   "metadata": {},
   "outputs": [
    {
     "name": "stdout",
     "output_type": "stream",
     "text": [
      "+-------------+-----+\n",
      "|        label|count|\n",
      "+-------------+-----+\n",
      "|1657857377929|14827|\n",
      "| 214748366473| 7507|\n",
      "| 816043787198| 6150|\n",
      "|1030792151530| 3674|\n",
      "|1108101563177| 3555|\n",
      "| 412316861910| 2511|\n",
      "| 738734376112| 1442|\n",
      "|  68719478317| 1205|\n",
      "| 532575946237| 1174|\n",
      "|1692217115374| 1140|\n",
      "|1520418423213|  850|\n",
      "| 326417515393|  607|\n",
      "|1288490190460|  597|\n",
      "|  85899346393|  560|\n",
      "|1486058685990|  544|\n",
      "|1047972021602|  453|\n",
      "|1460288881331|  425|\n",
      "| 137438954652|  396|\n",
      "| 609885357075|  372|\n",
      "|1451698946414|  370|\n",
      "+-------------+-----+\n",
      "only showing top 20 rows\n",
      "\n"
     ]
    }
   ],
   "source": [
    "communities_df = communities.groupBy('label').count().sort(desc('count'))\n",
    "communities_df.show()"
   ]
  },
  {
   "cell_type": "code",
   "execution_count": 13,
   "metadata": {},
   "outputs": [
    {
     "data": {
      "text/plain": [
       "[1657857377929, 214748366473, 816043787198, 1030792151530, 1108101563177]"
      ]
     },
     "execution_count": 13,
     "metadata": {},
     "output_type": "execute_result"
    }
   ],
   "source": [
    "communities_list = [i.label for i in communities_df.collect()]\n",
    "communities_list[:5]"
   ]
  },
  {
   "cell_type": "code",
   "execution_count": 24,
   "metadata": {},
   "outputs": [
    {
     "name": "stdout",
     "output_type": "stream",
     "text": [
      "60\n",
      "+--------------------+--------------------+------------+\n",
      "|                  id|                text|       label|\n",
      "+--------------------+--------------------+------------+\n",
      "|rising covid19 nu...|rising covid19 nu...|910533067362|\n",
      "|@dwuhlfelderlaw s...|@dwuhlfelderlaw s...|910533067362|\n",
      "|homestead-miami s...|homestead-miami s...|910533067362|\n",
      "|  badly hit by virus|  badly hit by virus|910533067362|\n",
      "|       nearly $ 900m|       nearly $ 900m|910533067362|\n",
      "|second wave of co...|second wave of co...|910533067362|\n",
      "|          water park|          water park|910533067362|\n",
      "|response to recor...|response to recor...|910533067362|\n",
      "|current trend of ...|current trend of ...|910533067362|\n",
      "|     new daily cases|     new daily cases|910533067362|\n",
      "|19 states with up...|19 states with up...|910533067362|\n",
      "|wealthiest commun...|wealthiest commun...|910533067362|\n",
      "|increase of 1,096...|increase of 1,096...|910533067362|\n",
      "|        ill children|        ill children|910533067362|\n",
      "|             avoided|             avoided|910533067362|\n",
      "|          600 deaths|          600 deaths|910533067362|\n",
      "|        such numbers|        such numbers|910533067362|\n",
      "|list for @realdon...|list for @realdon...|910533067362|\n",
      "|     over 1000 cases|     over 1000 cases|910533067362|\n",
      "|      medix pharmacy|      medix pharmacy|910533067362|\n",
      "+--------------------+--------------------+------------+\n",
      "only showing top 20 rows\n",
      "\n"
     ]
    }
   ],
   "source": [
    "sample_comm = communities.where(communities['label'] == communities_list[200])\n",
    "print(sample_comm.count())\n",
    "sample_comm.show()\n",
    "\n",
    "comm_nodes_list = [i.text for i in sample_comm.collect()]\n",
    "comm_edges_list = [[i.src, i.dst] for i in g.edges.where(g.edges['src'].isin(comm_nodes_list) | g.edges['dst'].isin(comm_nodes_list)).collect()]"
   ]
  },
  {
   "cell_type": "code",
   "execution_count": 25,
   "metadata": {},
   "outputs": [],
   "source": [
    "data_file_dir = 'data/covid_edges_6.txt'\n",
    "with open(data_file_dir, 'wb') as fp:\n",
    "    pickle.dump(comm_edges_list, fp)"
   ]
  },
  {
   "cell_type": "code",
   "execution_count": null,
   "metadata": {},
   "outputs": [],
   "source": []
  }
 ],
 "metadata": {
  "kernelspec": {
   "display_name": "Python 3",
   "language": "python",
   "name": "python3"
  },
  "language_info": {
   "codemirror_mode": {
    "name": "ipython",
    "version": 3
   },
   "file_extension": ".py",
   "mimetype": "text/x-python",
   "name": "python",
   "nbconvert_exporter": "python",
   "pygments_lexer": "ipython3",
   "version": "3.6.9"
  }
 },
 "nbformat": 4,
 "nbformat_minor": 4
}
