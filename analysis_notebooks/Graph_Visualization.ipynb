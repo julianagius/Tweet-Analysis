{
 "cells": [
  {
   "cell_type": "markdown",
   "metadata": {},
   "source": [
    "## Notebook to Visualize Communities\n",
    "Graphs are visualized using the webweb library which is built on top of D3.js"
   ]
  },
  {
   "cell_type": "code",
   "execution_count": 1,
   "metadata": {
    "ExecuteTime": {
     "end_time": "2020-06-12T20:48:52.699441Z",
     "start_time": "2020-06-12T20:48:52.161933Z"
    }
   },
   "outputs": [],
   "source": [
    "from webweb import Web\n",
    "import pickle\n",
    "import os"
   ]
  },
  {
   "cell_type": "code",
   "execution_count": 2,
   "metadata": {},
   "outputs": [
    {
     "name": "stdout",
     "output_type": "stream",
     "text": [
      "blm_edges_1.txt\n",
      "blm_edges_2.txt\n",
      "blm_edges_3.txt\n",
      "covid_edges_1.txt\n",
      "covid_edges_2.txt\n",
      "covid_edges_3.txt\n",
      "covid_edges_4.txt\n"
     ]
    }
   ],
   "source": [
    "directory = 'data' #folder where graph data is stored\n",
    "blm_edges_list = []\n",
    "covid_edges_list = []\n",
    "other_topic_list = []\n",
    "\n",
    "for filename in sorted(os.listdir(directory)):\n",
    "    if 'edges' in filename and 'blm' in filename and 'in' not in filename:\n",
    "        print(filename)\n",
    "        with open (os.path.join(directory, filename), 'rb') as fp:\n",
    "            edges_loaded = pickle.load(fp)\n",
    "            blm_edges_list.append(edges_loaded)\n",
    "\n",
    "    if 'edges' in filename and 'covid' in filename and 'in' not in filename:\n",
    "        print(filename)\n",
    "        with open (os.path.join(directory, filename), 'rb') as fp:\n",
    "            edges_loaded = pickle.load(fp)\n",
    "            covid_edges_list.append(edges_loaded)\n",
    "    \n",
    "with open ('./data/blm_in_covid_edges.txt', 'rb') as fp:\n",
    "    edges_loaded = pickle.load(fp)\n",
    "    other_topic_list.append(edges_loaded)\n",
    "\n",
    "with open ('./data/covid_in_blm_edges.txt', 'rb') as fp:\n",
    "    edges_loaded = pickle.load(fp)\n",
    "    other_topic_list.append(edges_loaded)"
   ]
  },
  {
   "cell_type": "code",
   "execution_count": 4,
   "metadata": {
    "ExecuteTime": {
     "end_time": "2020-06-12T20:48:52.807782Z",
     "start_time": "2020-06-12T20:48:52.794102Z"
    }
   },
   "outputs": [],
   "source": [
    "web = Web()\n",
    "web.networks.blm1(adjacency=blm_edges_list[0])\n",
    "web.networks.blm2(adjacency=blm_edges_list[1])\n",
    "web.networks.blm3(adjacency=blm_edges_list[2])\n",
    "\n",
    "web.networks.blm_in_covid(adjacency=other_topic_list[0])\n",
    "web.networks.covid_in_blm(adjacency=other_topic_list[1])\n",
    "\n",
    "web.networks.covid1(adjacency=covid_edges_list[0])\n",
    "web.networks.covid2(adjacency=covid_edges_list[1])\n",
    "web.networks.covid3(adjacency=covid_edges_list[2])\n",
    "web.networks.covid4(adjacency=covid_edges_list[3])\n",
    "\n",
    "\n",
    "web.display.sizeBy = 'degree'\n",
    "web.display.colorBy = 'degree'\n",
    "# web.display.showNodeNames = True\n",
    "web.display.scaleLinkWidth = True\n",
    "web.display.radius = 7.5\n",
    "web.display.linkLength = 150\n",
    "web.display.gravity = 0.03\n",
    "# web.display.showLegend = False\n",
    "\n",
    "web.show()"
   ]
  },
  {
   "cell_type": "code",
   "execution_count": null,
   "metadata": {},
   "outputs": [],
   "source": []
  }
 ],
 "metadata": {
  "kernelspec": {
   "display_name": "Python 3",
   "language": "python",
   "name": "python3"
  },
  "language_info": {
   "codemirror_mode": {
    "name": "ipython",
    "version": 3
   },
   "file_extension": ".py",
   "mimetype": "text/x-python",
   "name": "python",
   "nbconvert_exporter": "python",
   "pygments_lexer": "ipython3",
   "version": "3.6.9"
  },
  "varInspector": {
   "cols": {
    "lenName": 16,
    "lenType": 16,
    "lenVar": 40
   },
   "kernels_config": {
    "python": {
     "delete_cmd_postfix": "",
     "delete_cmd_prefix": "del ",
     "library": "var_list.py",
     "varRefreshCmd": "print(var_dic_list())"
    },
    "r": {
     "delete_cmd_postfix": ") ",
     "delete_cmd_prefix": "rm(",
     "library": "var_list.r",
     "varRefreshCmd": "cat(var_dic_list()) "
    }
   },
   "types_to_exclude": [
    "module",
    "function",
    "builtin_function_or_method",
    "instance",
    "_Feature"
   ],
   "window_display": false
  }
 },
 "nbformat": 4,
 "nbformat_minor": 2
}
