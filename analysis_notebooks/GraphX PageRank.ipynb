{
 "cells": [
  {
   "cell_type": "markdown",
   "metadata": {},
   "source": [
    "## PageRank\n",
    "\n",
    "This notebook creates a graph from the entities and relations obtained from tweets and runs the PageRank algorithm to determine the most important nodes in the resulting graph."
   ]
  },
  {
   "cell_type": "code",
   "execution_count": 1,
   "metadata": {},
   "outputs": [],
   "source": [
    "from functools import reduce\n",
    "from pyspark.sql.functions import col, lit, when, desc\n",
    "from graphframes import *\n",
    "\n",
    "from pyspark.sql import SparkSession\n",
    "\n",
    "from nltk.corpus import stopwords\n",
    "import string"
   ]
  },
  {
   "cell_type": "code",
   "execution_count": 2,
   "metadata": {},
   "outputs": [],
   "source": [
    "database = \"analysisDB\"\n",
    "collection = \"covid_vertices\"\n",
    "collection_2 = \"covid_edges\"\n",
    "topic = \"covid\" # covid | blm"
   ]
  },
  {
   "cell_type": "code",
   "execution_count": 3,
   "metadata": {},
   "outputs": [],
   "source": [
    "spark = SparkSession \\\n",
    "    .builder \\\n",
    "    .appName(\"myApp\") \\\n",
    "    .config(\"spark.mongodb.input.uri=mongodb://mongo:27017/\"+database+\".\"+collection) \\\n",
    "    .config(\"spark.mongodb.output.uri=mongodb://mongo:27017/\"+database+\".\"+collection) \\\n",
    "    .config('spark.jars.packages', 'org.mongodb.spark:mongo-spark-connector_2.11:2.3.2') \\\n",
    "    .getOrCreate()\n",
    "\n",
    "sc = spark.sparkContext"
   ]
  },
  {
   "cell_type": "code",
   "execution_count": 4,
   "metadata": {},
   "outputs": [
    {
     "data": {
      "text/plain": [
       "['_id', 'vertex']"
      ]
     },
     "execution_count": 4,
     "metadata": {},
     "output_type": "execute_result"
    }
   ],
   "source": [
    "vert_df = spark.read.format(\"com.mongodb.spark.sql.DefaultSource\").option(\"uri\",\"mongodb://mongo:27017/\"+database+\".\"+collection).load()\n",
    "vert_df.columns"
   ]
  },
  {
   "cell_type": "code",
   "execution_count": 5,
   "metadata": {},
   "outputs": [],
   "source": [
    "spark = SparkSession \\\n",
    "    .builder \\\n",
    "    .appName(\"myApp\") \\\n",
    "    .config(\"spark.mongodb.input.uri=mongodb://mongo:27017/\"+database+\".\"+collection_2) \\\n",
    "    .config(\"spark.mongodb.output.uri=mongodb://mongo:27017/\"+database+\".\"+collection_2) \\\n",
    "    .config('spark.jars.packages', 'org.mongodb.spark:mongo-spark-connector_2.11:2.3.2') \\\n",
    "    .getOrCreate()\n",
    "\n",
    "sc = spark.sparkContext"
   ]
  },
  {
   "cell_type": "code",
   "execution_count": 6,
   "metadata": {},
   "outputs": [
    {
     "data": {
      "text/plain": [
       "['_id', 'edge']"
      ]
     },
     "execution_count": 6,
     "metadata": {},
     "output_type": "execute_result"
    }
   ],
   "source": [
    "edge_df = spark.read.format(\"com.mongodb.spark.sql.DefaultSource\").option(\"uri\",\"mongodb://mongo:27017/\"+database+\".\"+collection_2).load()\n",
    "edge_df.columns"
   ]
  },
  {
   "cell_type": "code",
   "execution_count": 7,
   "metadata": {},
   "outputs": [
    {
     "data": {
      "text/plain": [
       "[('important', 'important'),\n",
       " ('expert speakers', 'expert speakers'),\n",
       " ('keeping', 'keeping'),\n",
       " ('covid19 recovery', 'covid19 recovery'),\n",
       " ('march against injustice', 'march against injustice')]"
      ]
     },
     "execution_count": 7,
     "metadata": {},
     "output_type": "execute_result"
    }
   ],
   "source": [
    "edge_list = [tuple(i.edge) for i in edge_df.select('edge').distinct().collect()]\n",
    "edge_list[:5]\n",
    "\n",
    "vert_list = [tuple(i.vertex) for i in vert_df.select('vertex').distinct().collect()]\n",
    "vert_list[:5]"
   ]
  },
  {
   "cell_type": "code",
   "execution_count": 8,
   "metadata": {},
   "outputs": [
    {
     "name": "stdout",
     "output_type": "stream",
     "text": [
      "+--------------------+--------------------+\n",
      "|                  id|                text|\n",
      "+--------------------+--------------------+\n",
      "|           important|           important|\n",
      "|     expert speakers|     expert speakers|\n",
      "|             keeping|             keeping|\n",
      "|    covid19 recovery|    covid19 recovery|\n",
      "|march against inj...|march against inj...|\n",
      "|for family carers...|for family carers...|\n",
      "|     crucial program|     crucial program|\n",
      "|        @smritikiran|        @smritikiran|\n",
      "|@iffr https://t.c...|@iffr https://t.c...|\n",
      "|will soon persona...|will soon persona...|\n",
      "|her story so comp...|her story so comp...|\n",
      "|our current reali...|our current reali...|\n",
      "|                many|                many|\n",
      "|new @ncbi sars-co...|new @ncbi sars-co...|\n",
      "|       six new cases|       six new cases|\n",
      "|           solutions|           solutions|\n",
      "|               fight|               fight|\n",
      "|        shortly givi|        shortly givi|\n",
      "|                   r|                   r|\n",
      "|link in context o...|link in context o...|\n",
      "+--------------------+--------------------+\n",
      "only showing top 20 rows\n",
      "\n"
     ]
    }
   ],
   "source": [
    "# Create graph\n",
    "vertices = spark.createDataFrame(vert_list, [\"id\", \"text\"])\n",
    "edges = spark.createDataFrame(edge_list, [\"src\", \"dst\", \"relationship\"])\n",
    "\n",
    "g = GraphFrame(vertices, edges)\n",
    "g.vertices.show()"
   ]
  },
  {
   "cell_type": "code",
   "execution_count": 9,
   "metadata": {},
   "outputs": [
    {
     "name": "stdout",
     "output_type": "stream",
     "text": [
      "+-----------+------------------+-----------+\n",
      "|         id|          pagerank|       text|\n",
      "+-----------+------------------+-----------+\n",
      "|      clear|1902.3859138997075|      clear|\n",
      "|     enough|1891.0006989751973|     enough|\n",
      "|    covid19|1254.2154049726319|    covid19|\n",
      "|         us| 647.2511877541159|         us|\n",
      "|         it|501.76233930237595|         it|\n",
      "|        you|492.36492228871646|        you|\n",
      "|      today|476.23761894085965|      today|\n",
      "|    garbage|415.20505519831033|    garbage|\n",
      "|coronavirus|359.31812975944996|coronavirus|\n",
      "|      world|282.94364253589947|      world|\n",
      "+-----------+------------------+-----------+\n",
      "only showing top 10 rows\n",
      "\n"
     ]
    }
   ],
   "source": [
    "# Run PageRank\n",
    "results = g.pageRank(resetProbability=0.01, maxIter=20)\n",
    "results.vertices.select(\"id\", \"pagerank\")\\\n",
    "    .join(vertices, on=\"id\").orderBy(\"pagerank\", ascending=False)\\\n",
    "    .show(10)"
   ]
  },
  {
   "cell_type": "code",
   "execution_count": 10,
   "metadata": {},
   "outputs": [],
   "source": [
    "page_rank_df = results.vertices.select(\"id\", \"pagerank\").join(vertices, on=\"id\").orderBy(\"pagerank\", ascending=False).limit(25).toPandas()"
   ]
  },
  {
   "cell_type": "code",
   "execution_count": 11,
   "metadata": {},
   "outputs": [
    {
     "data": {
      "text/plain": [
       "20"
      ]
     },
     "execution_count": 11,
     "metadata": {},
     "output_type": "execute_result"
    }
   ],
   "source": [
    "#remove stopwords from top 25 nodes\n",
    "\n",
    "to_drop_list = []\n",
    "\n",
    "for index, row in page_rank_df.iterrows():\n",
    "    if row['text'] in stopwords.words('english'):\n",
    "        to_drop_list.append(index)\n",
    "\n",
    "page_rank_df = page_rank_df.drop(to_drop_list)     \n",
    "len(page_rank_df.index)"
   ]
  },
  {
   "cell_type": "code",
   "execution_count": 14,
   "metadata": {},
   "outputs": [
    {
     "data": {
      "text/plain": [
       "<matplotlib.axes._subplots.AxesSubplot at 0x7fdcd8d94e10>"
      ]
     },
     "execution_count": 14,
     "metadata": {},
     "output_type": "execute_result"
    },
    {
     "data": {
      "image/png": "[encoded data removed]",
      "text/plain": [
       "<Figure size 432x288 with 1 Axes>"
      ]
     },
     "metadata": {
      "needs_background": "light"
     },
     "output_type": "display_data"
    }
   ],
   "source": [
    "# plot 15 nodes with highest pagerank score\n",
    "page_rank_df[:15].plot.bar(x='text', y='pagerank', rot=90)"
   ]
  },
  {
   "cell_type": "code",
   "execution_count": null,
   "metadata": {},
   "outputs": [],
   "source": []
  }
 ],
 "metadata": {
  "kernelspec": {
   "display_name": "Python 3",
   "language": "python",
   "name": "python3"
  },
  "language_info": {
   "codemirror_mode": {
    "name": "ipython",
    "version": 3
   },
   "file_extension": ".py",
   "mimetype": "text/x-python",
   "name": "python",
   "nbconvert_exporter": "python",
   "pygments_lexer": "ipython3",
   "version": "3.6.9"
  }
 },
 "nbformat": 4,
 "nbformat_minor": 4
}
